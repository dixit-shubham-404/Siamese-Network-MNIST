{
 "cells": [
  {
   "cell_type": "code",
   "execution_count": 1,
   "metadata": {},
   "outputs": [],
   "source": [
    "#In this code we will use MNIST dataset to build  siamese network with triplet loss function\n",
    "#In this instead of pairs we will make triplet of three images \n",
    "#First image is anchor which is of same class as positive as image\n",
    "#second is positive which is the reference image we are taking\n",
    "#Third is the image of class other than class of positive\n",
    "#Then we build as siamese network and triplet loss function and train the model "
   ]
  },
  {
   "cell_type": "code",
   "execution_count": 3,
   "metadata": {},
   "outputs": [],
   "source": [
    "#importing neccesary libraries\n",
    "import warnings\n",
    "warnings.filterwarnings('ignore')\n",
    "import tensorflow as tf\n",
    "import matplotlib.pyplot as plt\n",
    "import pandas as pd\n",
    "import numpy as np\n",
    "import random\n"
   ]
  },
  {
   "cell_type": "code",
   "execution_count": 4,
   "metadata": {},
   "outputs": [
    {
     "name": "stdout",
     "output_type": "stream",
     "text": [
      "(60000, 28, 28)\n",
      "(10000, 28, 28)\n"
     ]
    }
   ],
   "source": [
    "#loading dataset from keras\n",
    "(x_train,y_train),(x_test,y_test)=tf.keras.datasets.mnist.load_data()\n",
    "print(x_train.shape)\n",
    "print(x_test.shape)"
   ]
  },
  {
   "cell_type": "code",
   "execution_count": 5,
   "metadata": {},
   "outputs": [
    {
     "name": "stdout",
     "output_type": "stream",
     "text": [
      "(10000, 784)\n",
      "(60000, 784)\n"
     ]
    }
   ],
   "source": [
    "#normalizing the dataset and reshaping it make each image as an array of 784\n",
    "x_train=np.reshape(x_train,(60000,784))/255.\n",
    "x_test=np.reshape(x_test,(10000,784))/255.\n",
    "print(x_test.shape)\n",
    "print(x_train.shape)"
   ]
  },
  {
   "cell_type": "code",
   "execution_count": 6,
   "metadata": {},
   "outputs": [
    {
     "data": {
      "image/png": "[encoded data removed]",
      "text/plain": [
       "<Figure size 432x144 with 3 Axes>"
      ]
     },
     "metadata": {},
     "output_type": "display_data"
    }
   ],
   "source": [
    "#function to visualize triplet\n",
    "def plot_triplet(triplet):\n",
    "    plt.figure(figsize=(6,2))\n",
    "    for i in range(0,3):\n",
    "        plt.subplot(1,3,i+1)\n",
    "        plt.imshow(np.reshape(triplet[i],(28,28)),cmap='binary')\n",
    "        plt.xticks([])\n",
    "        plt.yticks([])\n",
    "    plt.show()\n",
    "    \n",
    "plot_triplet([x_train[0],x_train[1],x_train[2]])\n",
    "        "
   ]
  },
  {
   "cell_type": "code",
   "execution_count": 7,
   "metadata": {},
   "outputs": [
    {
     "data": {
      "image/png": "[encoded data removed]",
      "text/plain": [
       "<Figure size 432x144 with 3 Axes>"
      ]
     },
     "metadata": {},
     "output_type": "display_data"
    }
   ],
   "source": [
    "#function to create bacth of dataset\n",
    "def create_batch(batch_size):\n",
    "    anchors=np.zeros((batch_size,784))\n",
    "    positives=np.zeros((batch_size,784))\n",
    "    negatives=np.zeros((batch_size,784))\n",
    "    \n",
    "    for i in range(0,batch_size):\n",
    "        index=random.randint(0,60000-1)\n",
    "        anc=x_train[index]\n",
    "        y=y_train[index]\n",
    "        \n",
    "        indices_for_pos=np.squeeze(np.where(y_train==y))\n",
    "        indices_for_neg=np.squeeze(np.where(y_train!=y))\n",
    "        \n",
    "        pos=x_train[indices_for_pos[random.randint(0,len(indices_for_pos)-1)]]\n",
    "        neg=x_train[indices_for_neg[random.randint(0,len(indices_for_neg)-1)]]\n",
    "        \n",
    "        anchors[i]=anc\n",
    "        positives[i]=pos\n",
    "        negatives[i]=neg\n",
    "        \n",
    "    return [anchors,positives,negatives]\n",
    "    \n",
    "triplet=create_batch(1)\n",
    "plot_triplet(triplet)"
   ]
  },
  {
   "cell_type": "code",
   "execution_count": 8,
   "metadata": {},
   "outputs": [
    {
     "name": "stdout",
     "output_type": "stream",
     "text": [
      "WARNING:tensorflow:From C:\\Users\\Dell\\anaconda3\\lib\\site-packages\\tensorflow\\python\\ops\\init_ops.py:1251: calling VarianceScaling.__init__ (from tensorflow.python.ops.init_ops) with dtype is deprecated and will be removed in a future version.\n",
      "Instructions for updating:\n",
      "Call initializer instance with the dtype argument instead of passing it to the constructor\n",
      "Model: \"sequential\"\n",
      "_________________________________________________________________\n",
      "Layer (type)                 Output Shape              Param #   \n",
      "=================================================================\n",
      "dense (Dense)                (None, 64)                50240     \n",
      "_________________________________________________________________\n",
      "dense_1 (Dense)              (None, 64)                4160      \n",
      "=================================================================\n",
      "Total params: 54,400\n",
      "Trainable params: 54,400\n",
      "Non-trainable params: 0\n",
      "_________________________________________________________________\n"
     ]
    }
   ],
   "source": [
    "#embedding model/function\n",
    "emb_dim=64\n",
    "\n",
    "embedding_model=tf.keras.models.Sequential([\n",
    "    tf.keras.layers.Dense(64,activation='relu',input_shape=(784,)),\n",
    "    tf.keras.layers.Dense(emb_dim,activation='sigmoid')\n",
    "])\n",
    "\n",
    "embedding_model.summary()\n"
   ]
  },
  {
   "cell_type": "code",
   "execution_count": 9,
   "metadata": {},
   "outputs": [
    {
     "name": "stdout",
     "output_type": "stream",
     "text": [
      "(784,)\n"
     ]
    }
   ],
   "source": [
    "example=x_train[0]\n",
    "exam_pred=embedding_model.predict(np.expand_dims(example,axis=0))[0]\n",
    "print(example.shape)"
   ]
  },
  {
   "cell_type": "code",
   "execution_count": 10,
   "metadata": {},
   "outputs": [
    {
     "name": "stdout",
     "output_type": "stream",
     "text": [
      "Model: \"model\"\n",
      "__________________________________________________________________________________________________\n",
      "Layer (type)                    Output Shape         Param #     Connected to                     \n",
      "==================================================================================================\n",
      "input_1 (InputLayer)            [(None, 784)]        0                                            \n",
      "__________________________________________________________________________________________________\n",
      "input_2 (InputLayer)            [(None, 784)]        0                                            \n",
      "__________________________________________________________________________________________________\n",
      "input_3 (InputLayer)            [(None, 784)]        0                                            \n",
      "__________________________________________________________________________________________________\n",
      "sequential (Sequential)         (None, 64)           54400       input_1[0][0]                    \n",
      "                                                                 input_2[0][0]                    \n",
      "                                                                 input_3[0][0]                    \n",
      "__________________________________________________________________________________________________\n",
      "concatenate (Concatenate)       (None, 192)          0           sequential[1][0]                 \n",
      "                                                                 sequential[2][0]                 \n",
      "                                                                 sequential[3][0]                 \n",
      "==================================================================================================\n",
      "Total params: 54,400\n",
      "Trainable params: 54,400\n",
      "Non-trainable params: 0\n",
      "__________________________________________________________________________________________________\n"
     ]
    }
   ],
   "source": [
    "#defining siamese network\n",
    "in_anc=tf.keras.layers.Input(shape=(784,))\n",
    "in_pos=tf.keras.layers.Input(shape=(784,))\n",
    "in_neg=tf.keras.layers.Input(shape=(784,))\n",
    "\n",
    "em_anc=embedding_model(in_anc)\n",
    "em_pos=embedding_model(in_pos)\n",
    "em_neg=embedding_model(in_neg)\n",
    "\n",
    "out=tf.keras.layers.concatenate([em_anc,em_pos,em_neg],axis=1)\n",
    "\n",
    "net=tf.keras.models.Model(\n",
    "    [in_anc,in_pos,in_neg],\n",
    "    out\n",
    ")\n",
    "\n",
    "net.summary()"
   ]
  },
  {
   "cell_type": "code",
   "execution_count": 11,
   "metadata": {},
   "outputs": [],
   "source": [
    "#defining loss function\n",
    "def triplet_loss(alpha,emb_dim):\n",
    "    def loss(y_true,y_pred):\n",
    "        anc,pos,neg= y_pred[:,:emb_dim],y_pred[:,emb_dim:2*emb_dim], y_pred[:,2*emb_dim:3*emb_dim]\n",
    "        dp=tf.reduce_mean(tf.square(anc-pos),axis=1)\n",
    "        dn=tf.reduce_mean(tf.square(anc-neg),axis=1)\n",
    "\n",
    "        return tf.maximum(dp-dn+alpha,0.0)\n",
    "    return loss\n",
    "\n",
    "    "
   ]
  },
  {
   "cell_type": "code",
   "execution_count": 12,
   "metadata": {},
   "outputs": [],
   "source": [
    "def data_generator(batch_size,emb_dim):\n",
    "    while True:\n",
    "        x=create_batch(batch_size)\n",
    "        y=np.zeros((batch_size,3*emb_dim))\n",
    "        yield x,y\n",
    "    "
   ]
  },
  {
   "cell_type": "code",
   "execution_count": 13,
   "metadata": {},
   "outputs": [],
   "source": [
    "#compiling model\n",
    "batch_size=1024\n",
    "epochs=10\n",
    "steps_per_epochs=int(60000/batch_size)\n",
    "\n",
    "net.compile(loss=triplet_loss(alpha=0.2,emb_dim=emb_dim),optimizer='adam')\n",
    "\n",
    "X,Y=x_test[:1000],y_test[:1000]"
   ]
  },
  {
   "cell_type": "code",
   "execution_count": 14,
   "metadata": {},
   "outputs": [
    {
     "name": "stdout",
     "output_type": "stream",
     "text": [
      "Epoch 1/10\n",
      "WARNING:tensorflow:From C:\\Users\\Dell\\anaconda3\\lib\\site-packages\\tensorflow\\python\\ops\\math_grad.py:1250: add_dispatch_support.<locals>.wrapper (from tensorflow.python.ops.array_ops) is deprecated and will be removed in a future version.\n",
      "Instructions for updating:\n",
      "Use tf.where in 2.0, which has the same broadcast rule as np.where\n",
      "58/58 [==============================] - 39s 668ms/step - loss: 0.1210\n",
      "Epoch 2/10\n",
      "58/58 [==============================] - 43s 746ms/step - loss: 0.0546\n",
      "Epoch 3/10\n",
      "58/58 [==============================] - 42s 717ms/step - loss: 0.0454\n",
      "Epoch 4/10\n",
      "58/58 [==============================] - 41s 708ms/step - loss: 0.0398\n",
      "Epoch 5/10\n",
      "58/58 [==============================] - 42s 730ms/step - loss: 0.0353\n",
      "Epoch 6/10\n",
      "58/58 [==============================] - 41s 711ms/step - loss: 0.0321\n",
      "Epoch 7/10\n",
      "58/58 [==============================] - 43s 749ms/step - loss: 0.0292\n",
      "Epoch 8/10\n",
      "58/58 [==============================] - 42s 721ms/step - loss: 0.0265\n",
      "Epoch 9/10\n",
      "58/58 [==============================] - 44s 750ms/step - loss: 0.0245\n",
      "Epoch 10/10\n",
      "58/58 [==============================] - 43s 739ms/step - loss: 0.0228\n"
     ]
    },
    {
     "data": {
      "image/png": "[encoded data removed]",
      "text/plain": [
       "<Figure size 648x288 with 2 Axes>"
      ]
     },
     "metadata": {
      "needs_background": "light"
     },
     "output_type": "display_data"
    }
   ],
   "source": [
    "#fitting the dataset to siamese network\n",
    "from pca_plotter import PCAPlotter\n",
    "\n",
    "_=net.fit(\n",
    "    data_generator(batch_size,emb_dim),\n",
    "    epochs=epochs,steps_per_epoch=steps_per_epochs,\n",
    "    verbose=1,\n",
    "    callbacks=[\n",
    "        PCAPlotter(plt,embedding_model,X,Y)\n",
    "    ]\n",
    ")\n",
    "\n",
    "#the result shows the different class plotted over the graph and the loss with the corresponding epochs"
   ]
  },
  {
   "cell_type": "code",
   "execution_count": null,
   "metadata": {},
   "outputs": [],
   "source": []
  }
 ],
 "metadata": {
  "kernelspec": {
   "display_name": "Python 3",
   "language": "python",
   "name": "python3"
  },
  "language_info": {
   "codemirror_mode": {
    "name": "ipython",
    "version": 3
   },
   "file_extension": ".py",
   "mimetype": "text/x-python",
   "name": "python",
   "nbconvert_exporter": "python",
   "pygments_lexer": "ipython3",
   "version": "3.7.6"
  }
 },
 "nbformat": 4,
 "nbformat_minor": 4
}
